{
  "metadata": {
    "kernelspec": {
      "language": "python",
      "display_name": "Python 3",
      "name": "python3"
    },
    "language_info": {
      "name": "python",
      "version": "3.7.12",
      "mimetype": "text/x-python",
      "codemirror_mode": {
        "name": "ipython",
        "version": 3
      },
      "pygments_lexer": "ipython3",
      "nbconvert_exporter": "python",
      "file_extension": ".py"
    },
    "colab": {
      "provenance": []
    }
  },
  "nbformat_minor": 0,
  "nbformat": 4,
  "cells": [
    {
      "cell_type": "markdown",
      "source": [
        "# <center> AI4LR - Final Assignment [100 Points]"
      ],
      "metadata": {
        "id": "xksEYwr8QXgN"
      }
    },
    {
      "cell_type": "code",
      "source": [
        "# IMPORTANT\n",
        "Your_name = \"Karthick k\"\n",
        "Your_emailid = \"Karthi.13light@gmail.com\""
      ],
      "metadata": {
        "execution": {
          "iopub.status.busy": "2022-02-15T11:01:47.531504Z",
          "iopub.execute_input": "2022-02-15T11:01:47.531883Z",
          "iopub.status.idle": "2022-02-15T11:01:47.537092Z",
          "shell.execute_reply.started": "2022-02-15T11:01:47.531851Z",
          "shell.execute_reply": "2022-02-15T11:01:47.535364Z"
        },
        "id": "2WVqrOVwm8yz",
        "trusted": true
      },
      "execution_count": null,
      "outputs": []
    },
    {
      "cell_type": "markdown",
      "source": [
        "---"
      ],
      "metadata": {
        "id": "ad4LfQsdj_qa"
      }
    },
    {
      "cell_type": "markdown",
      "source": [
        "## Dataset\n",
        "- Add [this dataset](https://www.kaggle.com/datasets/romainpessia/artificial-lunar-rocky-landscape-dataset) to your Kaggle notebook.\n",
        "\n",
        "## Instructions for this project\n",
        "- Don't forget to turn on GPU for training your model(s).\n",
        "- Without changing anything in the notebook if you run it then you will get the val_iou_score of around 0.20.\n",
        "- Your goal of this project is to increase this val_iou_score as much as you can.\n",
        "- Evaluation of this project will be based on your best acquired val_iou_score seen in the notebook.\n",
        "- Your val_iou_score will be the percentage you will receive for this project. \n",
        "- If your best val_iou_score is 0.41 then you will score 41/100 points in this project.\n",
        "- Try to avoid any errors before submitting your notebook.\n",
        "\n",
        "## Tips to increase the performance of your model\n",
        "- Increase the number of epochs.\n",
        "- Increase the number of layers in your model.\n",
        "- Using SOTA high performance networks with transfer learning.\n",
        "- Using callbacks and carefully observing your model performance.\n",
        "- You can use the methods taught to you in this training program or any other methods of your own choice to increase the performance!\n",
        "\n",
        "## Guidelines on making changes to this notebook\n",
        "**1)** Add a descriptive comment to your code for whatever changes you are making in this notebook.\n",
        "- For example, if you are adding an extra Conv2D layer, write about all the aspects of the Conv2D layer you are adding.\n",
        "- The commnt should be placed at the point where the layer will be added.\n",
        "\n",
        "**2)** Show model properties before and after the changes were made.\n",
        "- For example, if you changed the layers - added, deleted, e.t.c.\n",
        "\n",
        "**3)** If you use new data preprocessing techniques that are not already part of this notebook, you must explain their inner workings using markdown cells.\n",
        "- Without this explanation, your techniques will not be considered for evaluation.\n",
        "- Use texts and images to explain this process.\n",
        "\n",
        "**4)** Make use of tables and plots that contributed to the improvement of your model.\n",
        "- Assume if increasing the epochs and decreasing the learning rate contributed in the improvement of your model.\n",
        "- You will first show these improvements using plots of val_iou_scores vs epochs as well as val_iou_scores vs learning rate.0\n",
        "- Then make use of tables to show iou scores for different learning rates.\n",
        "- For example, table 1 for lr_1 to show iou values for epochs 30 t0 50, table 2 to show iou values from epochs 30 to 50, and so on.\n",
        "- It is therefore advised to work on one improvement, optimize it, plot it, document it, then proceed to the next improvement - till you get a satisfactory IOU score.\n",
        "\n",
        "**5)** Final improvement summary table.\n",
        "- Prepare a table with columns (changes, improvments description, increase in iou from, increase in iou to)\n",
        "- List out all the changes you made to improve your final model performance."
      ],
      "metadata": {
        "id": "_qWKqzF4415S"
      }
    },
    {
      "cell_type": "markdown",
      "source": [
        "## Coding for this project"
      ],
      "metadata": {
        "id": "yydxFfxOj_qb"
      }
    },
    {
      "cell_type": "code",
      "source": [
        "!pip install segmentation_models"
      ],
      "metadata": {
        "id": "HRJUKjN1QXgS",
        "execution": {
          "iopub.status.busy": "2022-11-20T10:44:39.695061Z",
          "iopub.execute_input": "2022-11-20T10:44:39.695491Z",
          "iopub.status.idle": "2022-11-20T10:44:49.898480Z",
          "shell.execute_reply.started": "2022-11-20T10:44:39.695457Z",
          "shell.execute_reply": "2022-11-20T10:44:49.897282Z"
        },
        "trusted": true,
        "outputId": "b1de54f6-0730-4760-baa4-495037d079a2"
      },
      "execution_count": null,
      "outputs": [
        {
          "name": "stdout",
          "text": "Requirement already satisfied: segmentation_models in /opt/conda/lib/python3.7/site-packages (1.0.1)\nRequirement already satisfied: efficientnet==1.0.0 in /opt/conda/lib/python3.7/site-packages (from segmentation_models) (1.0.0)\nRequirement already satisfied: image-classifiers==1.0.0 in /opt/conda/lib/python3.7/site-packages (from segmentation_models) (1.0.0)\nRequirement already satisfied: keras-applications<=1.0.8,>=1.0.7 in /opt/conda/lib/python3.7/site-packages (from segmentation_models) (1.0.8)\nRequirement already satisfied: scikit-image in /opt/conda/lib/python3.7/site-packages (from efficientnet==1.0.0->segmentation_models) (0.19.3)\nRequirement already satisfied: h5py in /opt/conda/lib/python3.7/site-packages (from keras-applications<=1.0.8,>=1.0.7->segmentation_models) (3.7.0)\nRequirement already satisfied: numpy>=1.9.1 in /opt/conda/lib/python3.7/site-packages (from keras-applications<=1.0.8,>=1.0.7->segmentation_models) (1.21.6)\nRequirement already satisfied: packaging>=20.0 in /opt/conda/lib/python3.7/site-packages (from scikit-image->efficientnet==1.0.0->segmentation_models) (21.3)\nRequirement already satisfied: tifffile>=2019.7.26 in /opt/conda/lib/python3.7/site-packages (from scikit-image->efficientnet==1.0.0->segmentation_models) (2021.11.2)\nRequirement already satisfied: imageio>=2.4.1 in /opt/conda/lib/python3.7/site-packages (from scikit-image->efficientnet==1.0.0->segmentation_models) (2.19.3)\nRequirement already satisfied: pillow!=7.1.0,!=7.1.1,!=8.3.0,>=6.1.0 in /opt/conda/lib/python3.7/site-packages (from scikit-image->efficientnet==1.0.0->segmentation_models) (9.1.1)\nRequirement already satisfied: scipy>=1.4.1 in /opt/conda/lib/python3.7/site-packages (from scikit-image->efficientnet==1.0.0->segmentation_models) (1.7.3)\nRequirement already satisfied: networkx>=2.2 in /opt/conda/lib/python3.7/site-packages (from scikit-image->efficientnet==1.0.0->segmentation_models) (2.5)\nRequirement already satisfied: PyWavelets>=1.1.1 in /opt/conda/lib/python3.7/site-packages (from scikit-image->efficientnet==1.0.0->segmentation_models) (1.3.0)\nRequirement already satisfied: decorator>=4.3.0 in /opt/conda/lib/python3.7/site-packages (from networkx>=2.2->scikit-image->efficientnet==1.0.0->segmentation_models) (5.1.1)\nRequirement already satisfied: pyparsing!=3.0.5,>=2.0.2 in /opt/conda/lib/python3.7/site-packages (from packaging>=20.0->scikit-image->efficientnet==1.0.0->segmentation_models) (3.0.9)\n\u001b[33mWARNING: Running pip as the 'root' user can result in broken permissions and conflicting behaviour with the system package manager. It is recommended to use a virtual environment instead: https://pip.pypa.io/warnings/venv\u001b[0m\u001b[33m\n\u001b[0m",
          "output_type": "stream"
        }
      ]
    },
    {
      "cell_type": "code",
      "source": [
        "# import the necessary Library\n",
        "\n",
        "import tensorflow as tf\n",
        "import segmentation_models as sm\n",
        "import glob\n",
        "import cv2\n",
        "import os\n",
        "import numpy as np\n",
        "from matplotlib import pyplot as plt\n",
        "import keras \n",
        "from sklearn.model_selection import train_test_split"
      ],
      "metadata": {
        "id": "bGIcq3_DQXgT",
        "execution": {
          "iopub.status.busy": "2022-11-20T10:44:49.901115Z",
          "iopub.execute_input": "2022-11-20T10:44:49.901520Z",
          "iopub.status.idle": "2022-11-20T10:44:49.907899Z",
          "shell.execute_reply.started": "2022-11-20T10:44:49.901480Z",
          "shell.execute_reply": "2022-11-20T10:44:49.906924Z"
        },
        "trusted": true
      },
      "execution_count": null,
      "outputs": []
    },
    {
      "cell_type": "markdown",
      "source": [
        "* Provide environment variable SM_FRAMEWORK=keras / SM_FRAMEWORK=tf.keras before import segmentation_models\n",
        "* Change framework sm.set_framework('keras') / sm.set_framework('tf.keras')"
      ],
      "metadata": {
        "id": "TIJMgWvKm8y7"
      }
    },
    {
      "cell_type": "code",
      "source": [
        "# Setting framework environment\n",
        "os.environ[\"SM_FRAMEWORK\"] = \"tf.keras\"\n",
        "sm.set_framework('tf.keras')\n",
        "keras.backend.set_image_data_format('channels_last')"
      ],
      "metadata": {
        "id": "x2HKIVofm8y7",
        "execution": {
          "iopub.status.busy": "2022-11-20T10:44:55.937557Z",
          "iopub.execute_input": "2022-11-20T10:44:55.937952Z",
          "iopub.status.idle": "2022-11-20T10:44:55.943613Z",
          "shell.execute_reply.started": "2022-11-20T10:44:55.937918Z",
          "shell.execute_reply": "2022-11-20T10:44:55.942270Z"
        },
        "trusted": true
      },
      "execution_count": null,
      "outputs": []
    },
    {
      "cell_type": "markdown",
      "source": [
        "## Data Preprocessing Pipeline"
      ],
      "metadata": {
        "id": "OdS9NTtwQXgV"
      }
    },
    {
      "cell_type": "code",
      "source": [
        "H = 480 # height of image # Here the height of the image is changed to 480 from 256. This may reduce the data loss , as the original image size is 720 * 480\n",
        "W = 480 # width of image #here the width of the is changed to 480 from 256. The reason is same\n",
        "\n",
        "'''This function is used to return the list of path for images and masks in\n",
        "sorted order from the given directory respectively.'''\n",
        "# function to return list of image paths and mask paths \n",
        "def process_data(IMG_DIR, MASK_DIR):\n",
        "    images = [os.path.join(IMG_DIR, x) for x in sorted(os.listdir(IMG_DIR))]\n",
        "    masks = [os.path.join(MASK_DIR, x) for x in sorted(os.listdir(MASK_DIR))]\n",
        "    return images, masks\n",
        "\n",
        "'''This function is used to return splitted list of images and corresponding \n",
        "mask paths in train and test by providing test size.'''\n",
        "# function to load data and train test split\n",
        "def load_data(IMG_DIR, MASK_DIR):\n",
        "    X, y = process_data(IMG_DIR, MASK_DIR)\n",
        "    \n",
        "    X_train, X_test, y_train, y_test = train_test_split(\n",
        "        X, y, test_size=0.2, random_state=42)\n",
        "    \n",
        "    return X_train, X_test, y_train, y_test\n",
        "\n",
        "'''This function is used to read images. It takes image path as input. \n",
        "After reading image it is resized by width and height provide above(256 x 256). \n",
        "Next normalization is done by dividing each values with 255. And the result is returned.'''\n",
        "# function to read image\n",
        "def read_image(x):\n",
        "    x = cv2.imread(x, cv2.IMREAD_COLOR)\n",
        "    x = cv2.resize(x, (W, H))\n",
        "    x = x / 255.0\n",
        "    x = x.astype(np.float32)\n",
        "    return x\n",
        "\n",
        "'''This function is used to read masks.'''\n",
        "# function to read mask\n",
        "def read_mask(x):\n",
        "    x = cv2.imread(x, cv2.IMREAD_GRAYSCALE)\n",
        "    x = cv2.resize(x, (W, H))\n",
        "    x = x.astype(np.int32)\n",
        "    return x\n",
        "\n",
        "'''This function is used to generate tensorflow data pipeline. \n",
        "The tensorflow data pipeline is mapped to function ‘preprocess’ .'''\n",
        "# function for tensorflow dataset pipeline\n",
        "def tf_dataset(x, y, batch=8):\n",
        "    dataset = tf.data.Dataset.from_tensor_slices((x, y))\n",
        "    dataset = dataset.shuffle(buffer_size=5000)\n",
        "    dataset = dataset.map(preprocess)\n",
        "    dataset = dataset.batch(batch)\n",
        "    dataset = dataset.repeat()\n",
        "    dataset = dataset.prefetch(2)\n",
        "    return dataset\n",
        "\n",
        "'''This function takes image and mask path. \n",
        "It reads the image and mask as provided by paths. \n",
        "Mask is one hot encoded for multi class segmentation (here 4 class).'''\n",
        "# function to read image and mask amd create one hot encoding for mask\n",
        "def preprocess(x, y):\n",
        "    def f(x, y):\n",
        "        x = x.decode()\n",
        "        y = y.decode()\n",
        "\n",
        "        image = read_image(x)\n",
        "        mask = read_mask(y)\n",
        "\n",
        "        return image, mask\n",
        "\n",
        "    image, mask = tf.numpy_function(f, [x, y], [tf.float32, tf.int32])\n",
        "    mask = tf.one_hot(mask, 4, dtype=tf.int32)\n",
        "    image.set_shape([H, W, 3])\n",
        "    mask.set_shape([H, W, 4])\n",
        "\n",
        "    return image, mask"
      ],
      "metadata": {
        "id": "EQGsLbOVQXgW",
        "execution": {
          "iopub.status.busy": "2022-11-20T10:44:59.526683Z",
          "iopub.execute_input": "2022-11-20T10:44:59.527791Z",
          "iopub.status.idle": "2022-11-20T10:44:59.542997Z",
          "shell.execute_reply.started": "2022-11-20T10:44:59.527721Z",
          "shell.execute_reply": "2022-11-20T10:44:59.542007Z"
        },
        "trusted": true
      },
      "execution_count": null,
      "outputs": []
    },
    {
      "cell_type": "markdown",
      "source": [
        "## Load the dataset"
      ],
      "metadata": {
        "id": "ufOlyg7MQXgY"
      }
    },
    {
      "cell_type": "code",
      "source": [
        "'''RENDER_IMAGE_DIR_PATH: ‘Path of image directory’\n",
        "GROUND_MASK_DIR_PATH: ‘Path of mask directory’\n",
        "\n",
        "Here load_data function is called. This will load the dataset paths and \n",
        "split it into X_train, X_test, y_train, y_test '''\n",
        "\n",
        "RENDER_IMAGE_DIR_PATH = '../input/artificial-lunar-rocky-landscape-dataset/images/render'\n",
        "GROUND_MASK_DIR_PATH = '../input/artificial-lunar-rocky-landscape-dataset/images/clean'\n",
        "\n",
        "X_train, X_test, y_train, y_test = load_data(RENDER_IMAGE_DIR_PATH, GROUND_MASK_DIR_PATH)\n",
        "print(f\"Dataset:\\n Train: {len(X_train)} \\n Test: {len(X_test)}\")"
      ],
      "metadata": {
        "id": "vHWstFNTQXgY",
        "execution": {
          "iopub.status.busy": "2022-11-20T10:45:05.898001Z",
          "iopub.execute_input": "2022-11-20T10:45:05.898359Z",
          "iopub.status.idle": "2022-11-20T10:45:05.957875Z",
          "shell.execute_reply.started": "2022-11-20T10:45:05.898328Z",
          "shell.execute_reply": "2022-11-20T10:45:05.956691Z"
        },
        "trusted": true,
        "outputId": "be8b84f5-0db5-4c20-c027-fe0b8f74ba74"
      },
      "execution_count": null,
      "outputs": [
        {
          "name": "stdout",
          "text": "Dataset:\n Train: 7812 \n Test: 1954\n",
          "output_type": "stream"
        }
      ]
    },
    {
      "cell_type": "markdown",
      "source": [
        "## Generate tensorflow data pipeline"
      ],
      "metadata": {
        "id": "WfSTVsjCQXgZ"
      }
    },
    {
      "cell_type": "code",
      "source": [
        "batch_size = 16 #batch size is doubled. this will increase the efficiency of the model.\n",
        "\n",
        "'''Here the tf_dataset function is called will generate the tensorflow data pipeline.'''\n",
        "# calling tf_dataset\n",
        "train_dataset = tf_dataset(X_train, y_train, batch=batch_size)\n",
        "valid_dataset = tf_dataset(X_test, y_test, batch=batch_size)"
      ],
      "metadata": {
        "id": "4xsJKtW0QXgZ",
        "execution": {
          "iopub.status.busy": "2022-11-20T10:45:09.986311Z",
          "iopub.execute_input": "2022-11-20T10:45:09.986694Z",
          "iopub.status.idle": "2022-11-20T10:45:10.081036Z",
          "shell.execute_reply.started": "2022-11-20T10:45:09.986662Z",
          "shell.execute_reply": "2022-11-20T10:45:10.079998Z"
        },
        "trusted": true
      },
      "execution_count": null,
      "outputs": []
    },
    {
      "cell_type": "markdown",
      "source": [
        "## Creating U-net Architecture"
      ],
      "metadata": {
        "id": "1MqxtDTmQXga"
      }
    },
    {
      "cell_type": "markdown",
      "source": [
        "Here we are going to use vgg-16 backbone to build U-net architecture using transfer learning."
      ],
      "metadata": {
        "id": "4QzeviO0j_qg"
      }
    },
    {
      "cell_type": "code",
      "source": [
        "## Step-1: Creating base model \n",
        "IMG_SHAPE = (480, 480, 3)\n",
        "base_model = tf.keras.applications.VGG16(input_shape=IMG_SHAPE,include_top=False,weights='imagenet')\n",
        "\n",
        "## Step-2: Freezing the base model\n",
        "# Freezing should be done before training. this would prevent update of weight in given layer\n",
        "base_model.trainable = False\n",
        "base_model.summary()\n",
        "\n",
        "## Step-3: Adding the head\n",
        "# inputs\n",
        "inputs = tf.keras.Input(shape=(480, 480, 3))\n",
        "# base with pretrained model\n",
        "x = base_model(inputs, training=False)\n",
        "# layers of head\n",
        "x = tf.keras.layers.GlobalAveragePooling2D()(x)\n",
        "x = tf.keras.layers.Dropout(0.2)(x)\n",
        "outputs = tf.keras.layers.Dense(2)(x)\n",
        "\n",
        "# model\n",
        "model = tf.keras.Model(inputs, outputs)\n",
        "model.summary()"
      ],
      "metadata": {
        "id": "tYCyf8smQXga",
        "execution": {
          "iopub.status.busy": "2022-11-20T10:45:13.935376Z",
          "iopub.execute_input": "2022-11-20T10:45:13.935762Z",
          "iopub.status.idle": "2022-11-20T10:45:14.318928Z",
          "shell.execute_reply.started": "2022-11-20T10:45:13.935709Z",
          "shell.execute_reply": "2022-11-20T10:45:14.317796Z"
        },
        "trusted": true,
        "outputId": "a17bd897-ac98-4625-c605-5ecf4eb183ad"
      },
      "execution_count": null,
      "outputs": [
        {
          "name": "stdout",
          "text": "Model: \"vgg16\"\n_________________________________________________________________\nLayer (type)                 Output Shape              Param #   \n=================================================================\ninput_11 (InputLayer)        [(None, 480, 480, 3)]     0         \n_________________________________________________________________\nblock1_conv1 (Conv2D)        (None, 480, 480, 64)      1792      \n_________________________________________________________________\nblock1_conv2 (Conv2D)        (None, 480, 480, 64)      36928     \n_________________________________________________________________\nblock1_pool (MaxPooling2D)   (None, 240, 240, 64)      0         \n_________________________________________________________________\nblock2_conv1 (Conv2D)        (None, 240, 240, 128)     73856     \n_________________________________________________________________\nblock2_conv2 (Conv2D)        (None, 240, 240, 128)     147584    \n_________________________________________________________________\nblock2_pool (MaxPooling2D)   (None, 120, 120, 128)     0         \n_________________________________________________________________\nblock3_conv1 (Conv2D)        (None, 120, 120, 256)     295168    \n_________________________________________________________________\nblock3_conv2 (Conv2D)        (None, 120, 120, 256)     590080    \n_________________________________________________________________\nblock3_conv3 (Conv2D)        (None, 120, 120, 256)     590080    \n_________________________________________________________________\nblock3_pool (MaxPooling2D)   (None, 60, 60, 256)       0         \n_________________________________________________________________\nblock4_conv1 (Conv2D)        (None, 60, 60, 512)       1180160   \n_________________________________________________________________\nblock4_conv2 (Conv2D)        (None, 60, 60, 512)       2359808   \n_________________________________________________________________\nblock4_conv3 (Conv2D)        (None, 60, 60, 512)       2359808   \n_________________________________________________________________\nblock4_pool (MaxPooling2D)   (None, 30, 30, 512)       0         \n_________________________________________________________________\nblock5_conv1 (Conv2D)        (None, 30, 30, 512)       2359808   \n_________________________________________________________________\nblock5_conv2 (Conv2D)        (None, 30, 30, 512)       2359808   \n_________________________________________________________________\nblock5_conv3 (Conv2D)        (None, 30, 30, 512)       2359808   \n_________________________________________________________________\nblock5_pool (MaxPooling2D)   (None, 15, 15, 512)       0         \n=================================================================\nTotal params: 14,714,688\nTrainable params: 0\nNon-trainable params: 14,714,688\n_________________________________________________________________\nModel: \"model_9\"\n_________________________________________________________________\nLayer (type)                 Output Shape              Param #   \n=================================================================\ninput_12 (InputLayer)        [(None, 480, 480, 3)]     0         \n_________________________________________________________________\nvgg16 (Functional)           (None, 15, 15, 512)       14714688  \n_________________________________________________________________\nglobal_average_pooling2d_1 ( (None, 512)               0         \n_________________________________________________________________\ndropout_1 (Dropout)          (None, 512)               0         \n_________________________________________________________________\ndense_1 (Dense)              (None, 2)                 1026      \n=================================================================\nTotal params: 14,715,714\nTrainable params: 1,026\nNon-trainable params: 14,714,688\n_________________________________________________________________\n",
          "output_type": "stream"
        }
      ]
    },
    {
      "cell_type": "code",
      "source": [
        "BACKBONE = 'vgg16'\n",
        "input_shape = (480, 480, 3)\n",
        "n_class = 4\n",
        "activation = 'softmax'\n",
        "\n",
        "# we are creating U-Net using segementation model through Vgg16 as backbone\n",
        "# This model will add mirror image to contraction path \n",
        "model = sm.Unet(backbone_name = BACKBONE, \n",
        "                input_shape = input_shape, \n",
        "                classes = n_class, \n",
        "                activation = activation,\n",
        "                encoder_weights = 'imagenet')\n",
        "model.summary()"
      ],
      "metadata": {
        "id": "65hPnreJQXgb",
        "execution": {
          "iopub.status.busy": "2022-11-20T10:45:19.586863Z",
          "iopub.execute_input": "2022-11-20T10:45:19.587242Z",
          "iopub.status.idle": "2022-11-20T10:45:20.128378Z",
          "shell.execute_reply.started": "2022-11-20T10:45:19.587211Z",
          "shell.execute_reply": "2022-11-20T10:45:20.126093Z"
        },
        "trusted": true,
        "outputId": "d8c25fe8-81f9-4a8f-9e23-8a754283f2de"
      },
      "execution_count": null,
      "outputs": [
        {
          "name": "stdout",
          "text": "Model: \"model_10\"\n__________________________________________________________________________________________________\nLayer (type)                    Output Shape         Param #     Connected to                     \n==================================================================================================\ninput_13 (InputLayer)           [(None, 480, 480, 3) 0                                            \n__________________________________________________________________________________________________\nblock1_conv1 (Conv2D)           (None, 480, 480, 64) 1792        input_13[0][0]                   \n__________________________________________________________________________________________________\nblock1_conv2 (Conv2D)           (None, 480, 480, 64) 36928       block1_conv1[0][0]               \n__________________________________________________________________________________________________\nblock1_pool (MaxPooling2D)      (None, 240, 240, 64) 0           block1_conv2[0][0]               \n__________________________________________________________________________________________________\nblock2_conv1 (Conv2D)           (None, 240, 240, 128 73856       block1_pool[0][0]                \n__________________________________________________________________________________________________\nblock2_conv2 (Conv2D)           (None, 240, 240, 128 147584      block2_conv1[0][0]               \n__________________________________________________________________________________________________\nblock2_pool (MaxPooling2D)      (None, 120, 120, 128 0           block2_conv2[0][0]               \n__________________________________________________________________________________________________\nblock3_conv1 (Conv2D)           (None, 120, 120, 256 295168      block2_pool[0][0]                \n__________________________________________________________________________________________________\nblock3_conv2 (Conv2D)           (None, 120, 120, 256 590080      block3_conv1[0][0]               \n__________________________________________________________________________________________________\nblock3_conv3 (Conv2D)           (None, 120, 120, 256 590080      block3_conv2[0][0]               \n__________________________________________________________________________________________________\nblock3_pool (MaxPooling2D)      (None, 60, 60, 256)  0           block3_conv3[0][0]               \n__________________________________________________________________________________________________\nblock4_conv1 (Conv2D)           (None, 60, 60, 512)  1180160     block3_pool[0][0]                \n__________________________________________________________________________________________________\nblock4_conv2 (Conv2D)           (None, 60, 60, 512)  2359808     block4_conv1[0][0]               \n__________________________________________________________________________________________________\nblock4_conv3 (Conv2D)           (None, 60, 60, 512)  2359808     block4_conv2[0][0]               \n__________________________________________________________________________________________________\nblock4_pool (MaxPooling2D)      (None, 30, 30, 512)  0           block4_conv3[0][0]               \n__________________________________________________________________________________________________\nblock5_conv1 (Conv2D)           (None, 30, 30, 512)  2359808     block4_pool[0][0]                \n__________________________________________________________________________________________________\nblock5_conv2 (Conv2D)           (None, 30, 30, 512)  2359808     block5_conv1[0][0]               \n__________________________________________________________________________________________________\nblock5_conv3 (Conv2D)           (None, 30, 30, 512)  2359808     block5_conv2[0][0]               \n__________________________________________________________________________________________________\nblock5_pool (MaxPooling2D)      (None, 15, 15, 512)  0           block5_conv3[0][0]               \n__________________________________________________________________________________________________\ncenter_block1_conv (Conv2D)     (None, 15, 15, 512)  2359296     block5_pool[0][0]                \n__________________________________________________________________________________________________\ncenter_block1_bn (BatchNormaliz (None, 15, 15, 512)  2048        center_block1_conv[0][0]         \n__________________________________________________________________________________________________\ncenter_block1_relu (Activation) (None, 15, 15, 512)  0           center_block1_bn[0][0]           \n__________________________________________________________________________________________________\ncenter_block2_conv (Conv2D)     (None, 15, 15, 512)  2359296     center_block1_relu[0][0]         \n__________________________________________________________________________________________________\ncenter_block2_bn (BatchNormaliz (None, 15, 15, 512)  2048        center_block2_conv[0][0]         \n__________________________________________________________________________________________________\ncenter_block2_relu (Activation) (None, 15, 15, 512)  0           center_block2_bn[0][0]           \n__________________________________________________________________________________________________\ndecoder_stage0_upsampling (UpSa (None, 30, 30, 512)  0           center_block2_relu[0][0]         \n__________________________________________________________________________________________________\ndecoder_stage0_concat (Concaten (None, 30, 30, 1024) 0           decoder_stage0_upsampling[0][0]  \n                                                                 block5_conv3[0][0]               \n__________________________________________________________________________________________________\ndecoder_stage0a_conv (Conv2D)   (None, 30, 30, 256)  2359296     decoder_stage0_concat[0][0]      \n__________________________________________________________________________________________________\ndecoder_stage0a_bn (BatchNormal (None, 30, 30, 256)  1024        decoder_stage0a_conv[0][0]       \n__________________________________________________________________________________________________\ndecoder_stage0a_relu (Activatio (None, 30, 30, 256)  0           decoder_stage0a_bn[0][0]         \n__________________________________________________________________________________________________\ndecoder_stage0b_conv (Conv2D)   (None, 30, 30, 256)  589824      decoder_stage0a_relu[0][0]       \n__________________________________________________________________________________________________\ndecoder_stage0b_bn (BatchNormal (None, 30, 30, 256)  1024        decoder_stage0b_conv[0][0]       \n__________________________________________________________________________________________________\ndecoder_stage0b_relu (Activatio (None, 30, 30, 256)  0           decoder_stage0b_bn[0][0]         \n__________________________________________________________________________________________________\ndecoder_stage1_upsampling (UpSa (None, 60, 60, 256)  0           decoder_stage0b_relu[0][0]       \n__________________________________________________________________________________________________\ndecoder_stage1_concat (Concaten (None, 60, 60, 768)  0           decoder_stage1_upsampling[0][0]  \n                                                                 block4_conv3[0][0]               \n__________________________________________________________________________________________________\ndecoder_stage1a_conv (Conv2D)   (None, 60, 60, 128)  884736      decoder_stage1_concat[0][0]      \n__________________________________________________________________________________________________\ndecoder_stage1a_bn (BatchNormal (None, 60, 60, 128)  512         decoder_stage1a_conv[0][0]       \n__________________________________________________________________________________________________\ndecoder_stage1a_relu (Activatio (None, 60, 60, 128)  0           decoder_stage1a_bn[0][0]         \n__________________________________________________________________________________________________\ndecoder_stage1b_conv (Conv2D)   (None, 60, 60, 128)  147456      decoder_stage1a_relu[0][0]       \n__________________________________________________________________________________________________\ndecoder_stage1b_bn (BatchNormal (None, 60, 60, 128)  512         decoder_stage1b_conv[0][0]       \n__________________________________________________________________________________________________\ndecoder_stage1b_relu (Activatio (None, 60, 60, 128)  0           decoder_stage1b_bn[0][0]         \n__________________________________________________________________________________________________\ndecoder_stage2_upsampling (UpSa (None, 120, 120, 128 0           decoder_stage1b_relu[0][0]       \n__________________________________________________________________________________________________\ndecoder_stage2_concat (Concaten (None, 120, 120, 384 0           decoder_stage2_upsampling[0][0]  \n                                                                 block3_conv3[0][0]               \n__________________________________________________________________________________________________\ndecoder_stage2a_conv (Conv2D)   (None, 120, 120, 64) 221184      decoder_stage2_concat[0][0]      \n__________________________________________________________________________________________________\ndecoder_stage2a_bn (BatchNormal (None, 120, 120, 64) 256         decoder_stage2a_conv[0][0]       \n__________________________________________________________________________________________________\ndecoder_stage2a_relu (Activatio (None, 120, 120, 64) 0           decoder_stage2a_bn[0][0]         \n__________________________________________________________________________________________________\ndecoder_stage2b_conv (Conv2D)   (None, 120, 120, 64) 36864       decoder_stage2a_relu[0][0]       \n__________________________________________________________________________________________________\ndecoder_stage2b_bn (BatchNormal (None, 120, 120, 64) 256         decoder_stage2b_conv[0][0]       \n__________________________________________________________________________________________________\ndecoder_stage2b_relu (Activatio (None, 120, 120, 64) 0           decoder_stage2b_bn[0][0]         \n__________________________________________________________________________________________________\ndecoder_stage3_upsampling (UpSa (None, 240, 240, 64) 0           decoder_stage2b_relu[0][0]       \n__________________________________________________________________________________________________\ndecoder_stage3_concat (Concaten (None, 240, 240, 192 0           decoder_stage3_upsampling[0][0]  \n                                                                 block2_conv2[0][0]               \n__________________________________________________________________________________________________\ndecoder_stage3a_conv (Conv2D)   (None, 240, 240, 32) 55296       decoder_stage3_concat[0][0]      \n__________________________________________________________________________________________________\ndecoder_stage3a_bn (BatchNormal (None, 240, 240, 32) 128         decoder_stage3a_conv[0][0]       \n__________________________________________________________________________________________________\ndecoder_stage3a_relu (Activatio (None, 240, 240, 32) 0           decoder_stage3a_bn[0][0]         \n__________________________________________________________________________________________________\ndecoder_stage3b_conv (Conv2D)   (None, 240, 240, 32) 9216        decoder_stage3a_relu[0][0]       \n__________________________________________________________________________________________________\ndecoder_stage3b_bn (BatchNormal (None, 240, 240, 32) 128         decoder_stage3b_conv[0][0]       \n__________________________________________________________________________________________________\ndecoder_stage3b_relu (Activatio (None, 240, 240, 32) 0           decoder_stage3b_bn[0][0]         \n__________________________________________________________________________________________________\ndecoder_stage4_upsampling (UpSa (None, 480, 480, 32) 0           decoder_stage3b_relu[0][0]       \n__________________________________________________________________________________________________\ndecoder_stage4a_conv (Conv2D)   (None, 480, 480, 16) 4608        decoder_stage4_upsampling[0][0]  \n__________________________________________________________________________________________________\ndecoder_stage4a_bn (BatchNormal (None, 480, 480, 16) 64          decoder_stage4a_conv[0][0]       \n__________________________________________________________________________________________________\ndecoder_stage4a_relu (Activatio (None, 480, 480, 16) 0           decoder_stage4a_bn[0][0]         \n__________________________________________________________________________________________________\ndecoder_stage4b_conv (Conv2D)   (None, 480, 480, 16) 2304        decoder_stage4a_relu[0][0]       \n__________________________________________________________________________________________________\ndecoder_stage4b_bn (BatchNormal (None, 480, 480, 16) 64          decoder_stage4b_conv[0][0]       \n__________________________________________________________________________________________________\ndecoder_stage4b_relu (Activatio (None, 480, 480, 16) 0           decoder_stage4b_bn[0][0]         \n__________________________________________________________________________________________________\nfinal_conv (Conv2D)             (None, 480, 480, 4)  580         decoder_stage4b_relu[0][0]       \n__________________________________________________________________________________________________\nsoftmax (Activation)            (None, 480, 480, 4)  0           final_conv[0][0]                 \n==================================================================================================\nTotal params: 23,752,708\nTrainable params: 23,748,676\nNon-trainable params: 4,032\n__________________________________________________________________________________________________\n",
          "output_type": "stream"
        }
      ]
    },
    {
      "cell_type": "markdown",
      "source": [
        "## Load model and compile"
      ],
      "metadata": {
        "id": "bMgeqmX2QXgc"
      }
    },
    {
      "cell_type": "code",
      "source": [
        "# importing libraries\n",
        "from tensorflow.keras.callbacks import ModelCheckpoint, ReduceLROnPlateau, EarlyStopping, TensorBoard\n",
        "from segmentation_models.metrics import iou_score\n",
        "import datetime, os\n",
        "\n",
        "\"\"\" Defining Hyperparameters \"\"\"\n",
        "img_shape = (480, 480, 3) #This is the input shape.\n",
        "num_classes = 4\n",
        "lr = 1e-5 #as much you decrease , we will get better generaslisation\n",
        "batch_size = 16\n",
        "epochs = 8 #I increased epochs to get better score\n",
        "\n",
        "\"\"\" Model building and compiling \"\"\"\n",
        "# metrics for result validation\n",
        "metrics = [sm.metrics.IOUScore(threshold=0.5), sm.metrics.FScore(threshold=0.5)]\n",
        "# compiling the model\n",
        "model.compile(loss = 'categorical_crossentropy', optimizer = tf.keras.optimizers.Adam(lr, epsilon=1e-8, decay=1e-6),metrics = metrics)\n",
        "train_steps = len(X_train)//batch_size\n",
        "valid_steps = len(X_test)//batch_size\n",
        "\n",
        "\"\"\" Callbacks \"\"\"\n",
        "current_datetime = datetime.datetime.now().strftime(\"%Y%m%d-%H%M%S\")\n",
        "callbacks = [tf.keras.callbacks.ModelCheckpoint(filepath=f'models/LunarModel.h5', monitor='val_iou_score', verbose=1, mode='max', save_best_only=True), \n",
        "             tf.keras.callbacks.ReduceLROnPlateau(monitor=\"val_iou_score\", mode='max', patience=4, factor=0.1, verbose=1, min_lr=1e-6),\n",
        "             tf.keras.callbacks.EarlyStopping(monitor=\"val_iou_score\", patience=5, verbose=1, mode='max')]"
      ],
      "metadata": {
        "id": "z91qV2ZwQXgc",
        "execution": {
          "iopub.status.busy": "2022-11-20T10:45:25.215160Z",
          "iopub.execute_input": "2022-11-20T10:45:25.215516Z",
          "iopub.status.idle": "2022-11-20T10:45:25.234449Z",
          "shell.execute_reply.started": "2022-11-20T10:45:25.215487Z",
          "shell.execute_reply": "2022-11-20T10:45:25.233417Z"
        },
        "trusted": true
      },
      "execution_count": null,
      "outputs": []
    },
    {
      "cell_type": "markdown",
      "source": [
        "## Train model"
      ],
      "metadata": {
        "id": "SBhRPBKPQXgc"
      }
    },
    {
      "cell_type": "code",
      "source": [
        "'''model.fit is used to train the model'''\n",
        "model_history = model.fit(train_dataset,\n",
        "        steps_per_epoch=train_steps,\n",
        "        validation_data=valid_dataset,\n",
        "        validation_steps=valid_steps,\n",
        "        epochs=epochs,\n",
        "    )"
      ],
      "metadata": {
        "id": "4lJgBNVwQXgd",
        "execution": {
          "iopub.status.busy": "2022-11-20T10:45:29.976433Z",
          "iopub.execute_input": "2022-11-20T10:45:29.976838Z",
          "iopub.status.idle": "2022-11-20T12:23:40.217705Z",
          "shell.execute_reply.started": "2022-11-20T10:45:29.976806Z",
          "shell.execute_reply": "2022-11-20T12:23:40.216556Z"
        },
        "trusted": true,
        "outputId": "0fea371b-5113-476d-a3ff-9346ba1db16c"
      },
      "execution_count": null,
      "outputs": [
        {
          "name": "stdout",
          "text": "Epoch 1/8\n488/488 [==============================] - 742s 2s/step - loss: 0.7075 - iou_score: 0.0801 - f1-score: 0.1123 - val_loss: 0.5009 - val_iou_score: 0.1601 - val_f1-score: 0.1949\nEpoch 2/8\n488/488 [==============================] - 735s 2s/step - loss: 0.3502 - iou_score: 0.2274 - f1-score: 0.2446 - val_loss: 0.2636 - val_iou_score: 0.3354 - val_f1-score: 0.3427\nEpoch 3/8\n488/488 [==============================] - 735s 2s/step - loss: 0.2132 - iou_score: 0.4700 - f1-score: 0.4766 - val_loss: 0.1721 - val_iou_score: 0.6458 - val_f1-score: 0.6516\nEpoch 4/8\n488/488 [==============================] - 737s 2s/step - loss: 0.1513 - iou_score: 0.5335 - f1-score: 0.5396 - val_loss: 0.1269 - val_iou_score: 0.5464 - val_f1-score: 0.5537\nEpoch 5/8\n488/488 [==============================] - 734s 2s/step - loss: 0.1244 - iou_score: 0.4835 - f1-score: 0.4907 - val_loss: 0.1103 - val_iou_score: 0.6075 - val_f1-score: 0.6140\nEpoch 6/8\n488/488 [==============================] - 735s 2s/step - loss: 0.0991 - iou_score: 0.6456 - f1-score: 0.6510 - val_loss: 0.0838 - val_iou_score: 0.7376 - val_f1-score: 0.7436\nEpoch 7/8\n488/488 [==============================] - 735s 2s/step - loss: 0.0781 - iou_score: 0.7387 - f1-score: 0.7439 - val_loss: 0.0667 - val_iou_score: 0.7399 - val_f1-score: 0.7448\nEpoch 8/8\n488/488 [==============================] - 735s 2s/step - loss: 0.0614 - iou_score: 0.7402 - f1-score: 0.7450 - val_loss: 0.0561 - val_iou_score: 0.7402 - val_f1-score: 0.7450\n",
          "output_type": "stream"
        }
      ]
    },
    {
      "cell_type": "code",
      "source": [
        "print(model_history.history)"
      ],
      "metadata": {
        "execution": {
          "iopub.status.busy": "2022-11-20T12:23:55.134270Z",
          "iopub.execute_input": "2022-11-20T12:23:55.134640Z",
          "iopub.status.idle": "2022-11-20T12:23:55.140842Z",
          "shell.execute_reply.started": "2022-11-20T12:23:55.134610Z",
          "shell.execute_reply": "2022-11-20T12:23:55.139791Z"
        },
        "trusted": true,
        "id": "0B4f2-qYj_qi",
        "outputId": "ecd9b6a0-6183-4f89-dc71-4fe7d3e8115d"
      },
      "execution_count": null,
      "outputs": [
        {
          "name": "stdout",
          "text": "{'loss': [0.7075363397598267, 0.3501974046230316, 0.21320781111717224, 0.151299387216568, 0.12440797686576843, 0.09910914301872253, 0.07809744030237198, 0.06142817437648773], 'iou_score': [0.08005586266517639, 0.22736066579818726, 0.469962477684021, 0.5335178971290588, 0.48350006341934204, 0.6456146836280823, 0.738678514957428, 0.7401715517044067], 'f1-score': [0.11232234537601471, 0.2446339726448059, 0.47656330466270447, 0.5396267175674438, 0.49072906374931335, 0.651045024394989, 0.7439441084861755, 0.7449694871902466], 'val_loss': [0.5008986592292786, 0.263568252325058, 0.17205455899238586, 0.12693336606025696, 0.11033459007740021, 0.08377684652805328, 0.06674763560295105, 0.05612218752503395], 'val_iou_score': [0.1600561887025833, 0.3354343771934509, 0.6458176374435425, 0.546374499797821, 0.6074533462524414, 0.7375553846359253, 0.7398613691329956, 0.7401691675186157], 'val_f1-score': [0.19488942623138428, 0.34266799688339233, 0.6516282558441162, 0.5536677837371826, 0.6139727830886841, 0.7435963153839111, 0.7448074221611023, 0.7449676990509033]}\n",
          "output_type": "stream"
        }
      ]
    },
    {
      "cell_type": "markdown",
      "source": [
        "## [IMPORTANT] Paste you final model training history here in the markdown.(just double click this line, and you'll be able to edit it. \n",
        "\n",
        "NOTE: If we find that your actual model score and what you paste here is differing, your assignment will get rejected.  \n",
        "\n",
        "here ----\n"
      ],
      "metadata": {
        "id": "I1OFxBbnxC_I"
      }
    },
    {
      "cell_type": "markdown",
      "source": [
        "# **Model histories given below :**"
      ],
      "metadata": {
        "id": "1DXLSPx7j_qi"
      }
    },
    {
      "cell_type": "code",
      "source": [
        "History_1 = {'loss': [0.5984277725219727, 0.3573857247829437, 0.24004290997982025, 0.16470076143741608, 0.13713842630386353], \n",
        "'iou_score': [0.1166997030377388, 0.15338383615016937, 0.17699980735778809, 0.1930825561285019, 0.19635359942913055], \n",
        "'val_loss': [0.4423363506793976, 0.30066871643066406, 0.20033034682273865, 0.14634183049201965, 0.11715567857027054], \n",
        "'val_iou_score': [0.13592185080051422, 0.16570517420768738, 0.18757089972496033, 0.19637364149093628, 0.195452019572258]}\n",
        "\n",
        "History_2 = {'loss': [0.48761430382728577, 0.27456820011138916, 0.18208512663841248, 0.12785212695598602, 0.09350620210170746], \n",
        "'iou_score': [0.12687207758426666, 0.16102993488311768, 0.17878015339374542, 0.19000090658664703, 0.1975499987602234], \n",
        "'val_loss': [0.33451005816459656, 0.2412446290254593, 0.1614338457584381, 0.12275522202253342, 0.07784944027662277], \n",
        "'val_iou_score': [0.15292774140834808, 0.16778601706027985, 0.18559810519218445, 0.1921360194683075, 0.20022352039813995]}\n",
        "\n",
        "History_3 = {'loss': [0.64536635518074036, 0.3937649995088577, 0.2412974593043327, 0.1150687876343727, 0.09274173140525818], \n",
        "'iou_score': [0.36826464533805847, 0.7057791948318481, 0.6297565698623657, 0.5204053521156311, 0.5541524887084961], \n",
        "'f1-score': [0.3827938735485077, 0.7152298092842102, 0.649531364440918, 0.5456835627555847, 0.5792655944824219], \n",
        "'val_loss': [0.0813726857304573, 0.032043855637311935, 0.036784738302230835, 0.019282961264252663, 0.023523643612861633], \n",
        "'val_iou_score': [0.2010038185119629, 0.2408210229873657, 0.2971740007400513, 0.31030866026878357, 0.3241242909431458]}\n",
        "\n",
        "History_4 = {'loss': [0.7075363397598267, 0.3501974046230316, 0.21320781111717224, 0.151299387216568, 0.12440797686576843, 0.09910914301872253, 0.07809744030237198, 0.06142817437648773], \n",
        "'iou_score': [0.08005586266517639, 0.22736066579818726, 0.469962477684021, 0.5335178971290588, 0.48350006341934204, 0.6456146836280823, 0.738678514957428, 0.7401715517044067], \n",
        "'f1-score': [0.11232234537601471, 0.2446339726448059, 0.47656330466270447, 0.5396267175674438, 0.49072906374931335, 0.651045024394989, 0.7439441084861755, 0.7449694871902466], \n",
        "'val_loss': [0.5008986592292786, 0.263568252325058, 0.17205455899238586, 0.12693336606025696, 0.11033459007740021, 0.08377684652805328, 0.06674763560295105, 0.05612218752503395], \n",
        "'val_iou_score': [0.1600561887025833, 0.3354343771934509, 0.6458176374435425, 0.546374499797821, 0.6074533462524414, 0.7375553846359253, 0.7398613691329956, 0.7401691675186157]}"
      ],
      "metadata": {
        "id": "X8f68O0lxXuP",
        "execution": {
          "iopub.status.busy": "2022-11-20T13:07:24.580226Z",
          "iopub.execute_input": "2022-11-20T13:07:24.580826Z",
          "iopub.status.idle": "2022-11-20T13:07:24.592860Z",
          "shell.execute_reply.started": "2022-11-20T13:07:24.580782Z",
          "shell.execute_reply": "2022-11-20T13:07:24.591813Z"
        },
        "trusted": true
      },
      "execution_count": null,
      "outputs": []
    },
    {
      "cell_type": "code",
      "source": [
        "# Code to generate graph\n",
        "import matplotlib.pyplot as plt\n",
        "def Plotting(history1, history2):\n",
        "        plt.plot(history1['val_iou_score'])\n",
        "        plt.plot(history2['val_iou_score'])\n",
        "        plt.title('Model Performance')\n",
        "        plt.xlabel('epochs')\n",
        "        plt.ylabel('val_iou_score')\n",
        "        plt.legend(['Previous Val_iou_score', 'New Val_iou_score'])\n",
        "        plt.show()"
      ],
      "metadata": {
        "execution": {
          "iopub.status.busy": "2022-11-20T13:08:59.696371Z",
          "iopub.execute_input": "2022-11-20T13:08:59.696756Z",
          "iopub.status.idle": "2022-11-20T13:08:59.702570Z",
          "shell.execute_reply.started": "2022-11-20T13:08:59.696706Z",
          "shell.execute_reply": "2022-11-20T13:08:59.701645Z"
        },
        "trusted": true,
        "id": "Z4-XuxoAj_qi"
      },
      "execution_count": null,
      "outputs": []
    },
    {
      "cell_type": "code",
      "source": [
        "# code to create tables\n",
        "from tabulate import tabulate\n",
        "def comprasion_table(history1,history2):\n",
        "    mydata = [[history1, history2]]\n",
        "    head = [\"Previous score\", \"New score\"]\n",
        "    print(tabulate(mydata, headers=head, tablefmt=\"grid\"))"
      ],
      "metadata": {
        "execution": {
          "iopub.status.busy": "2022-11-20T13:09:03.415573Z",
          "iopub.execute_input": "2022-11-20T13:09:03.416345Z",
          "iopub.status.idle": "2022-11-20T13:09:03.421951Z",
          "shell.execute_reply.started": "2022-11-20T13:09:03.416302Z",
          "shell.execute_reply": "2022-11-20T13:09:03.420435Z"
        },
        "trusted": true,
        "id": "hyeJBVIej_qi"
      },
      "execution_count": null,
      "outputs": []
    },
    {
      "cell_type": "markdown",
      "source": [
        "# History 1 to History 2"
      ],
      "metadata": {
        "id": "RzKR3fyGj_qj"
      }
    },
    {
      "cell_type": "code",
      "source": [
        "Plotting(History_1,History_2)\n",
        "print()\n",
        "comprasion_table(History_1[\"val_iou_score\"][-1],History_2[\"val_iou_score\"][-1])\n",
        "print(\"\\nThe Trial 1 score is default run without any changes. in trial 2 I given two important changes, where i changed the size of the image from 256 x 256 to 480 x 480. Then i doubled the batch size from 8 to 16. this shown an margin increment , which might not be seen an improvement but numerically it is increased.\")"
      ],
      "metadata": {
        "trusted": true,
        "id": "sIVjRccmj_qj",
        "outputId": "f204148a-31ae-4e27-f1a4-9f582b9ca481"
      },
      "execution_count": null,
      "outputs": [
        {
          "output_type": "display_data",
          "data": {
            "text/plain": "<Figure size 432x288 with 1 Axes>",
            "image/png": "[encoded data removed]"
          },
          "metadata": {
            "needs_background": "light"
          }
        },
        {
          "name": "stdout",
          "text": "\n+------------------+-------------+\n|   Previous score |   New score |\n+==================+=============+\n|         0.195452 |    0.200224 |\n+------------------+-------------+\n\nThe Trial 1 score is default run without any changes. in trial 2 I given two important changes, where i changed the size of the image from 256 x 256 to 480 x 480. Then i doubled the batch size from 8 to 16. this shown an margin increment , which might not be seen an improvement but numerically it is increased.\n",
          "output_type": "stream"
        }
      ]
    },
    {
      "cell_type": "markdown",
      "source": [
        "# History 2 to History 3"
      ],
      "metadata": {
        "id": "RbBIlPQyj_qj"
      }
    },
    {
      "cell_type": "code",
      "source": [
        "Plotting(History_2,History_3)\n",
        "print()\n",
        "comprasion_table(History_2[\"val_iou_score\"][-1],History_3[\"val_iou_score\"][-1])\n",
        "print(\"\\nFrom history to when comapre to history 3, we can see an good improvement in the score. the reason behind this , I implemented the vgg16-backbone transfer learning technique and introduced metric for result validation. I maintained epoch as 5 for experimental phase.\")"
      ],
      "metadata": {
        "execution": {
          "iopub.status.busy": "2022-11-20T13:12:24.236108Z",
          "iopub.execute_input": "2022-11-20T13:12:24.236527Z",
          "iopub.status.idle": "2022-11-20T13:12:24.481628Z",
          "shell.execute_reply.started": "2022-11-20T13:12:24.236493Z",
          "shell.execute_reply": "2022-11-20T13:12:24.480604Z"
        },
        "trusted": true,
        "id": "_JvM1KLAj_qj",
        "outputId": "e921f297-38e5-4c72-e094-583ea5285885"
      },
      "execution_count": null,
      "outputs": [
        {
          "output_type": "display_data",
          "data": {
            "text/plain": "<Figure size 432x288 with 1 Axes>",
            "image/png": "[encoded data removed]"
          },
          "metadata": {
            "needs_background": "light"
          }
        },
        {
          "name": "stdout",
          "text": "\n+------------------+-------------+\n|   Previous score |   New score |\n+==================+=============+\n|         0.200224 |    0.324124 |\n+------------------+-------------+\n\nFrom history to when comapre to history 3, we can see an good improvement in the score. the reason behind this , I implemented the vgg16-backbone transfer learning technique and introduced metric for result validation. I maintained epoch as 5 for experimental phase.\n",
          "output_type": "stream"
        }
      ]
    },
    {
      "cell_type": "markdown",
      "source": [
        "# History 3 to History 4"
      ],
      "metadata": {
        "id": "D7gRNJF7j_qj"
      }
    },
    {
      "cell_type": "code",
      "source": [
        "Plotting(History_3,History_4)\n",
        "print()\n",
        "comprasion_table(History_3[\"val_iou_score\"][-1],History_4[\"val_iou_score\"][-1])\n",
        "print(\"\\nAn drastic improvement seen in score. this might be the final score , as i implemented all known techniques to improve score. First i decreased the learning rate to 1 x 10-5. then epsilon and decay are used to improve the score. This decay used to reduce the complexity of model and prevent overfitting\")"
      ],
      "metadata": {
        "execution": {
          "iopub.status.busy": "2022-11-20T13:18:28.735784Z",
          "iopub.execute_input": "2022-11-20T13:18:28.736570Z",
          "iopub.status.idle": "2022-11-20T13:18:28.957178Z",
          "shell.execute_reply.started": "2022-11-20T13:18:28.736529Z",
          "shell.execute_reply": "2022-11-20T13:18:28.956072Z"
        },
        "trusted": true,
        "id": "K_ywqL94j_qj",
        "outputId": "a73605a9-6927-40c4-bc39-20237131ac58"
      },
      "execution_count": null,
      "outputs": [
        {
          "output_type": "display_data",
          "data": {
            "text/plain": "<Figure size 432x288 with 1 Axes>",
            "image/png": "[encoded data removed]"
          },
          "metadata": {
            "needs_background": "light"
          }
        },
        {
          "name": "stdout",
          "text": "\n+------------------+-------------+\n|   Previous score |   New score |\n+==================+=============+\n|         0.324124 |    0.740169 |\n+------------------+-------------+\n\nAn drastic improvement seen in score. this might be the final score , as i implemented all known techniques to improve score. First i decreased the learning rate to 1 x 10-5. then epsilon and decay are used to improve the score. This decay used to reduce the complexity of model and prevent overfitting\n",
          "output_type": "stream"
        }
      ]
    },
    {
      "cell_type": "markdown",
      "source": [
        "# Final improvement summary table\n",
        "|History (Trial) | changes made | increase in iou from | increase in iou to |\n",
        "|:---| :----: | :---:| :---:|\n",
        "| 1 | default notebook runned without any change | --- | 0.1955 |\n",
        "| 2 | Changed the size of the image and increased the batch size | 0.1955| 0.2002|\n",
        "| 3 | Implemented vgg-16 Transfer learning technique, maintained same epoch 5 | 0.2002 | 0.3241 |\n",
        "| 4 | Decreased learning rate, Increased epoch to 8, epsilon and decay added | 0.3241 | 0.7401 |"
      ],
      "metadata": {
        "id": "Y-_JVsq9j_qj"
      }
    },
    {
      "cell_type": "code",
      "source": [],
      "metadata": {
        "id": "ETrzfSG8j_qk"
      },
      "execution_count": null,
      "outputs": []
    },
    {
      "cell_type": "markdown",
      "source": [
        "---\n",
        "# <center> THE END"
      ],
      "metadata": {
        "id": "xO4rT6gkj_qk"
      }
    }
  ]
}